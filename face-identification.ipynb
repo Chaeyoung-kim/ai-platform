{
 "cells": [
  {
   "cell_type": "markdown",
   "metadata": {},
   "source": [
    "# Python Environment\n",
    "시스템 내 기본 python과 jupyter notebook에서 사용하는 python이 같은 지 확인하는 법\n",
    "> Cell 내 윗 주석은 설명, 아래 주석은 찬영의 결과"
   ]
  },
  {
   "cell_type": "code",
   "execution_count": null,
   "metadata": {},
   "outputs": [],
   "source": [
    "# 앞에 느낌표를 붙이면 터미널 명령어(Command Prompt에 명령어 입력)로써 작동하는데,\n",
    "# 컴퓨터 내 기본 python이 무엇인지 찾기 위해서 살펴본다.\n",
    "!python --version\n",
    "\n",
    "# \"Python 3.6.8\""
   ]
  },
  {
   "cell_type": "code",
   "execution_count": null,
   "metadata": {},
   "outputs": [],
   "source": [
    "# python이 여러 개가 다운로드 된 경우 여러 개가 등장한다.\n",
    "!WHERE python\n",
    "\n",
    "# \"C:\\Users\\codybright\\AppData\\Local\\Programs\\Python\\Python36\\python.exe\""
   ]
  },
  {
   "cell_type": "code",
   "execution_count": null,
   "metadata": {},
   "outputs": [],
   "source": [
    "# jupyter notebook이 커널로써 사용하는 python\n",
    "import sys\n",
    "sys.executable\n",
    "\n",
    "# \"c:\\\\users\\\\codybright\\\\appdata\\\\local\\\\programs\\\\python\\\\python36\\\\python.exe\""
   ]
  },
  {
   "cell_type": "markdown",
   "metadata": {},
   "source": [
    "## 프로그램이 실행되는 원리\n",
    "\n",
    "`(설명을 위해 하는 설명이라 정확한 개념은 아니다)`\n",
    "\n",
    "- 프로그램이 실행되는 것은 쉽게 말하면 program.exe가 실행되는 것.\n",
    "- 그래서 우리가 Command Prompt에서 python을 입력하면 python이 실행되는 것이다.\n",
    "\n",
    "<img src=\"./public/python.PNG\" align=\"left\" width=\"700px\"/>"
   ]
  },
  {
   "cell_type": "markdown",
   "metadata": {},
   "source": [
    "### 그렇다면, 컴퓨터는 이러한 .exe 파일을 어디 있는 줄 알고 똑똑하게 실행할까? \n",
    "- 프로그램을 둘러볼 위치를 정의한 것이 바로 ***환경 변수***\n",
    "- 환경 변수는 시스템 변수와 사용자 변수가 있는데, 뭐 둘다 둘러볼 위치이고,\n",
    "- 보통 python.exe의 위치가 환경 변수 내 PATH에 저장되어 있어서 실행되는 것이다.\n",
    "\n",
    "> 그렇다면, 코드로 환경 변수 리스트를 확인해보자."
   ]
  },
  {
   "cell_type": "code",
   "execution_count": null,
   "metadata": {},
   "outputs": [],
   "source": [
    "import os\n",
    "os.environ[\"PATH\"].split(\";\")"
   ]
  },
  {
   "cell_type": "markdown",
   "metadata": {},
   "source": [
    "필자의 경우 python과 관련된 부분은 아래와 같고, 결론적으로 jupyter notebook에서 쓰는 그리고 시스템 기본 python이 같다.\n",
    "\n",
    "- C:\\\\Users\\\\codybright\\\\AppData\\\\Local\\\\Programs\\\\Python\\\\Python36\\\\Scripts\\\\\n",
    "- C:\\\\Users\\\\codybright\\\\AppData\\\\Local\\\\Programs\\\\Python\\\\Python36\\\\\n",
    "- c:\\\\users\\\\codybright\\\\appdata\\\\local\\\\programs\\\\python\\\\python36\\\\lib\\\\site-packages\\\\pywin32_system32\n"
   ]
  },
  {
   "cell_type": "markdown",
   "metadata": {},
   "source": [
    "# torch Environment\n",
    "\n",
    "필자도 예시 코드를 바탕으로 코드를 만드는데, 모듈 import하는 부분부터 오류가 있었다.\n",
    "<img src=\"./public/error.PNG\" align=\"left\" width=\"500px\"/>"
   ]
  },
  {
   "cell_type": "markdown",
   "metadata": {},
   "source": [
    "오류를 살펴보니, torch는 있지만, torch.utils.tensorboard은 없는 것이다.\n",
    "\n",
    "> 왜냐하면, 필자는 torch v1.0.1을 쓰는데, tensorboard는 구글 검색 결과 1.3.0부터 등장하는 듯 했다.\n",
    "\n",
    "어렵게 생각할 것 없이 업데이트를 해주면 된다.\n",
    "\n",
    "***하지만, 업데이트와 더불어 설치된 모듈 정보도 확인해보자.***"
   ]
  },
  {
   "cell_type": "code",
   "execution_count": null,
   "metadata": {},
   "outputs": [],
   "source": [
    "# pip이 온전히 설치된 사람은 결과가 등장할 것이다.\n",
    "# 필자는 순정 python, 순정 pip을 설치하였기에 터미널에서 pip이 동작한다.\n",
    "# pip도 pip.exe와 같이 실행되는 것이다.\n",
    "\n",
    "!pip show torch"
   ]
  },
  {
   "cell_type": "code",
   "execution_count": null,
   "metadata": {},
   "outputs": [],
   "source": [
    "!WHERE pip"
   ]
  },
  {
   "cell_type": "markdown",
   "metadata": {},
   "source": [
    "### 업그레이드의 경우 보통 검색해보면,\n",
    "\n",
    "`pip install torch` or `pip install --upgrade torch torchvision`\n",
    "\n",
    "즉, pip이 설치 명령어만 줘도 알아서 업그레이드 해준다 or 업그레이드 조건을 준다인데,\n",
    "\n",
    "사실상 여러 버전이 깔리는 것을 원치 않는다면, 삭제해주고 설치하는 것이 낫다.\n",
    "\n",
    "그래서 필자는\n",
    "\n",
    "`pip uninstall torch torchvision`\n",
    "\n",
    "`pip install torch==1.5.0+cpu torchvision==0.6.0+cpu -f https://download.pytorch.org/whl/torch_stable.html`\n",
    "\n",
    "을 실행했다.\n",
    "\n",
    "그냥 `pip install torch torchvision`을 하니 오류가 났었다."
   ]
  },
  {
   "cell_type": "markdown",
   "metadata": {},
   "source": [
    "# Face Identification\n",
    "\n",
    "안면 인식 관련하여 크게, Face Detection과 Face Identification으로 나뉜다. 둘은 비슷하지만 다르다."
   ]
  },
  {
   "cell_type": "markdown",
   "metadata": {},
   "source": [
    "## Import Libraries"
   ]
  },
  {
   "cell_type": "markdown",
   "metadata": {},
   "source": [
    "현재 이 코드가 적힌 파일 위치에 facenet_pytorch이라는 폴더가 있고, 이를 모듈처럼 불러와 사용하는데,\n",
    "\n",
    "이것도 `__init__.py`라는 파일이 있어야 이렇게 모듈처럼 불러올 수 있고, 동일 폴더 내에 있어야 하는 등 여러 조건이 있다."
   ]
  },
  {
   "cell_type": "code",
   "execution_count": 1,
   "metadata": {},
   "outputs": [],
   "source": [
    "# 구글이 공개한 facenet이라는 AI 모델이 있는데, tensorflow로 작성된 것을 pytorch 형태로 공개하고 있다.\n",
    "# https://github.com/timesler/facenet-pytorch\n",
    "from facenet_pytorch import MTCNN, InceptionResnetV1, fixed_image_standardization, training"
   ]
  },
  {
   "cell_type": "code",
   "execution_count": 2,
   "metadata": {},
   "outputs": [],
   "source": [
    "import torch\n",
    "from torch.utils.data import DataLoader, SubsetRandomSampler\n",
    "from torch import optim\n",
    "from torch.optim.lr_scheduler import MultiStepLR\n",
    "from torch.utils.tensorboard import SummaryWriter\n",
    "from torchvision import datasets, transforms\n",
    "import numpy as np\n",
    "import pandas as pd\n",
    "import os"
   ]
  },
  {
   "cell_type": "markdown",
   "metadata": {},
   "source": [
    "## Import the Data"
   ]
  },
  {
   "cell_type": "markdown",
   "metadata": {},
   "source": [
    "우리가 봤었던 MNIST의 경우, 데이터가 이미지인데 excel에 숫자로 적혀 있어서 pandas로 불러와서 이를 torch로 바꿔주었으나,\n",
    "\n",
    "`featuresTrain = torch.from_numpy(features_train)`\n",
    "\n",
    "`targetsTrain = torch.from_numpy(target_train).type(torch.LongTensor)`\n",
    "\n",
    "`train = torch.utils.data.TensorDataset(featuresTrain,targetsTrain)`\n",
    "\n",
    "여기서는 이미지 파일이기 때문에 torchvision.datasets이라는 내장된 모듈을 사용해 간편하게 불러온다.\n",
    "\n",
    "그리고 한번 이미지를 align 해야 하는 과정이 필요하다.\n",
    "\n",
    "`dataset = datasets.ImageFolder(data_dir, transform=transforms.Resize((512, 512)))`"
   ]
  },
  {
   "cell_type": "markdown",
   "metadata": {},
   "source": [
    "#### Define run parameters\n",
    "\n",
    "The dataset should follow the VGGFace2/ImageNet-style directory layout. Modify `data_dir` to the location of the dataset on wish to finetune on.\n",
    "\n",
    "보통 input data 위치 및 하이퍼파라미터를 설정하는 것인데, 하이퍼 파라미터란 조정하는 수치값을 의미한다.\n",
    "\n",
    "epoch의 경우 같은 데이터로 학습을 몇 번 돌릴 것인지를 의미한다."
   ]
  },
  {
   "cell_type": "code",
   "execution_count": 3,
   "metadata": {},
   "outputs": [],
   "source": [
    "data_dir = './data/train'\n",
    "\n",
    "batch_size = 32\n",
    "epochs = 8\n",
    "workers = 0 if os.name == 'nt' else 4"
   ]
  },
  {
   "cell_type": "markdown",
   "metadata": {},
   "source": [
    "#### Determine if an nvidia GPU is available"
   ]
  },
  {
   "cell_type": "code",
   "execution_count": 4,
   "metadata": {
    "scrolled": true
   },
   "outputs": [
    {
     "name": "stdout",
     "output_type": "stream",
     "text": [
      "Running on device: cpu\n"
     ]
    }
   ],
   "source": [
    "device = torch.device('cuda:0' if torch.cuda.is_available() else 'cpu')\n",
    "print('Running on device: {}'.format(device))"
   ]
  },
  {
   "cell_type": "markdown",
   "metadata": {},
   "source": [
    "#### Define MTCNN module\n",
    "\n",
    "See `help(MTCNN)` for more details."
   ]
  },
  {
   "cell_type": "code",
   "execution_count": 5,
   "metadata": {},
   "outputs": [],
   "source": [
    "mtcnn = MTCNN(\n",
    "    image_size=160, margin=0, min_face_size=20,\n",
    "    thresholds=[0.6, 0.7, 0.7], factor=0.709, post_process=True,\n",
    "    device=device\n",
    ")"
   ]
  },
  {
   "cell_type": "markdown",
   "metadata": {},
   "source": [
    "#### Perfom MTCNN facial detection\n",
    "\n",
    "Iterate through the DataLoader object and obtained cropped faces."
   ]
  },
  {
   "cell_type": "code",
   "execution_count": 6,
   "metadata": {
    "scrolled": true
   },
   "outputs": [
    {
     "name": "stdout",
     "output_type": "stream",
     "text": [
      "Batch 2 of 2"
     ]
    }
   ],
   "source": [
    "dataset = datasets.ImageFolder(data_dir, transform=transforms.Resize((512, 512)))\n",
    "dataset.samples = [\n",
    "    (p, p.replace(data_dir, data_dir + '_aligned')) for p, _ in dataset.samples\n",
    "]\n",
    "        \n",
    "loader = DataLoader(\n",
    "    dataset,\n",
    "    num_workers=workers,\n",
    "    batch_size=batch_size,\n",
    "    collate_fn=training.collate_pil\n",
    ")\n",
    "\n",
    "for i, (x, y) in enumerate(loader):\n",
    "    mtcnn(x, save_path=y)\n",
    "    print('\\rBatch {} of {}'.format(i + 1, len(loader)), end='')\n",
    "    \n",
    "# Remove mtcnn to reduce GPU memory usage\n",
    "del mtcnn"
   ]
  },
  {
   "cell_type": "markdown",
   "metadata": {},
   "source": [
    "#### Define Inception Resnet V1 module\n",
    "\n",
    "See `help(InceptionResnetV1)` for more details."
   ]
  },
  {
   "cell_type": "code",
   "execution_count": 7,
   "metadata": {},
   "outputs": [],
   "source": [
    "resnet = InceptionResnetV1(\n",
    "    classify=True,\n",
    "    pretrained='vggface2',\n",
    "    num_classes=len(dataset.class_to_idx)\n",
    ").to(device)"
   ]
  },
  {
   "cell_type": "code",
   "execution_count": 8,
   "metadata": {},
   "outputs": [
    {
     "data": {
      "text/plain": [
       "6"
      ]
     },
     "execution_count": 8,
     "metadata": {},
     "output_type": "execute_result"
    }
   ],
   "source": [
    "len(dataset.class_to_idx)"
   ]
  },
  {
   "cell_type": "markdown",
   "metadata": {},
   "source": [
    "#### Define optimizer, scheduler, dataset, and dataloader"
   ]
  },
  {
   "cell_type": "code",
   "execution_count": 9,
   "metadata": {},
   "outputs": [],
   "source": [
    "optimizer = optim.Adam(resnet.parameters(), lr=0.001)\n",
    "scheduler = MultiStepLR(optimizer, [5, 10])\n",
    "\n",
    "trans = transforms.Compose([\n",
    "    np.float32,\n",
    "    transforms.ToTensor(),\n",
    "    fixed_image_standardization\n",
    "])\n",
    "dataset = datasets.ImageFolder(data_dir + '_aligned', transform=trans)\n",
    "img_inds = np.arange(len(dataset))\n",
    "np.random.shuffle(img_inds)\n",
    "train_inds = img_inds[:int(0.8 * len(img_inds))]\n",
    "val_inds = img_inds[int(0.8 * len(img_inds)):]\n",
    "\n",
    "train_loader = DataLoader(\n",
    "    dataset,\n",
    "    num_workers=workers,\n",
    "    batch_size=batch_size,\n",
    "    sampler=SubsetRandomSampler(train_inds)\n",
    ")\n",
    "val_loader = DataLoader(\n",
    "    dataset,\n",
    "    num_workers=workers,\n",
    "    batch_size=batch_size,\n",
    "    sampler=SubsetRandomSampler(val_inds)\n",
    ")"
   ]
  },
  {
   "cell_type": "code",
   "execution_count": 21,
   "metadata": {},
   "outputs": [
    {
     "data": {
      "text/plain": [
       "49"
      ]
     },
     "execution_count": 21,
     "metadata": {},
     "output_type": "execute_result"
    }
   ],
   "source": [
    "len(img_inds)"
   ]
  },
  {
   "cell_type": "markdown",
   "metadata": {},
   "source": [
    "#### Define loss and evaluation functions"
   ]
  },
  {
   "cell_type": "code",
   "execution_count": 10,
   "metadata": {},
   "outputs": [],
   "source": [
    "loss_fn = torch.nn.CrossEntropyLoss()\n",
    "metrics = {\n",
    "    'fps': training.BatchTimer(),\n",
    "    'acc': training.accuracy\n",
    "}"
   ]
  },
  {
   "cell_type": "markdown",
   "metadata": {},
   "source": [
    "#### Train model"
   ]
  },
  {
   "cell_type": "code",
   "execution_count": 11,
   "metadata": {},
   "outputs": [
    {
     "name": "stdout",
     "output_type": "stream",
     "text": [
      "\n",
      "\n",
      "Initial\n",
      "----------\n",
      "Valid |     1/1    | loss:    1.8074 | fps:    6.4688 | acc:    0.2000   \n",
      "\n",
      "Epoch 1/8\n",
      "----------\n",
      "Train |     2/2    | loss:    1.1343 | fps:    5.5490 | acc:    0.4509   \n",
      "Valid |     1/1    | loss:    5.0978 | fps:   20.5402 | acc:    0.1000   \n",
      "\n",
      "Epoch 2/8\n",
      "----------\n",
      "Train |     2/2    | loss:    0.3976 | fps:    5.4350 | acc:    0.8906   \n",
      "Valid |     1/1    | loss:    2.2830 | fps:   20.5447 | acc:    0.3000   \n",
      "\n",
      "Epoch 3/8\n",
      "----------\n",
      "Train |     2/2    | loss:    0.1105 | fps:    5.4670 | acc:    1.0000   \n",
      "Valid |     1/1    | loss:    2.6657 | fps:   20.0937 | acc:    0.4000   \n",
      "\n",
      "Epoch 4/8\n",
      "----------\n",
      "Train |     2/2    | loss:    0.0396 | fps:    5.5004 | acc:    0.9844   \n",
      "Valid |     1/1    | loss:    4.4182 | fps:   20.6519 | acc:    0.3000   \n",
      "\n",
      "Epoch 5/8\n",
      "----------\n",
      "Train |     2/2    | loss:    0.2939 | fps:    5.5030 | acc:    0.7545   \n",
      "Valid |     1/1    | loss:    6.2994 | fps:   20.7455 | acc:    0.2000   \n",
      "\n",
      "Epoch 6/8\n",
      "----------\n",
      "Train |     2/2    | loss:    0.2957 | fps:    5.4462 | acc:    0.9219   \n",
      "Valid |     1/1    | loss:    5.2048 | fps:   20.2560 | acc:    0.3000   \n",
      "\n",
      "Epoch 7/8\n",
      "----------\n",
      "Train |     2/2    | loss:    0.2607 | fps:    5.4796 | acc:    0.9531   \n",
      "Valid |     1/1    | loss:    4.7716 | fps:   21.0204 | acc:    0.2000   \n",
      "\n",
      "Epoch 8/8\n",
      "----------\n",
      "Train |     2/2    | loss:    1.0278 | fps:    5.5742 | acc:    0.8259   \n",
      "Valid |     1/1    | loss:    4.3783 | fps:   19.9339 | acc:    0.2000   \n"
     ]
    }
   ],
   "source": [
    "writer = SummaryWriter()\n",
    "writer.iteration, writer.interval = 0, 10\n",
    "\n",
    "print('\\n\\nInitial')\n",
    "print('-' * 10)\n",
    "resnet.eval()\n",
    "training.pass_epoch(\n",
    "    resnet, loss_fn, val_loader,\n",
    "    batch_metrics=metrics, show_running=True, device=device,\n",
    "    writer=writer\n",
    ")\n",
    "\n",
    "for epoch in range(epochs):\n",
    "    print('\\nEpoch {}/{}'.format(epoch + 1, epochs))\n",
    "    print('-' * 10)\n",
    "\n",
    "    resnet.train()\n",
    "    training.pass_epoch(\n",
    "        resnet, loss_fn, train_loader, optimizer, scheduler,\n",
    "        batch_metrics=metrics, show_running=True, device=device,\n",
    "        writer=writer\n",
    "    )\n",
    "\n",
    "    resnet.eval()\n",
    "    training.pass_epoch(\n",
    "        resnet, loss_fn, val_loader,\n",
    "        batch_metrics=metrics, show_running=True, device=device,\n",
    "        writer=writer\n",
    "    )\n",
    "\n",
    "writer.close()"
   ]
  },
  {
   "cell_type": "code",
   "execution_count": 24,
   "metadata": {},
   "outputs": [],
   "source": [
    "data_loader = DataLoader(dataset)"
   ]
  },
  {
   "cell_type": "code",
   "execution_count": 46,
   "metadata": {},
   "outputs": [],
   "source": [
    "X = []\n",
    "y = []\n",
    "for i in data_loader:\n",
    "    X += resnet(i[0]).tolist()\n",
    "    y.append(i[1].tolist())"
   ]
  },
  {
   "cell_type": "code",
   "execution_count": 33,
   "metadata": {},
   "outputs": [],
   "source": [
    "from sklearn import svm"
   ]
  },
  {
   "cell_type": "code",
   "execution_count": 50,
   "metadata": {
    "scrolled": true
   },
   "outputs": [
    {
     "name": "stderr",
     "output_type": "stream",
     "text": [
      "c:\\users\\codybright\\appdata\\local\\programs\\python\\python36\\lib\\site-packages\\sklearn\\utils\\validation.py:724: DataConversionWarning: A column-vector y was passed when a 1d array was expected. Please change the shape of y to (n_samples, ), for example using ravel().\n",
      "  y = column_or_1d(y, warn=True)\n",
      "c:\\users\\codybright\\appdata\\local\\programs\\python\\python36\\lib\\site-packages\\sklearn\\svm\\base.py:193: FutureWarning: The default value of gamma will change from 'auto' to 'scale' in version 0.22 to account better for unscaled features. Set gamma explicitly to 'auto' or 'scale' to avoid this warning.\n",
      "  \"avoid this warning.\", FutureWarning)\n"
     ]
    },
    {
     "data": {
      "text/plain": [
       "SVC(C=1.0, cache_size=200, class_weight=None, coef0=0.0,\n",
       "    decision_function_shape='ovr', degree=3, gamma='auto_deprecated',\n",
       "    kernel='rbf', max_iter=-1, probability=False, random_state=None,\n",
       "    shrinking=True, tol=0.001, verbose=False)"
      ]
     },
     "execution_count": 50,
     "metadata": {},
     "output_type": "execute_result"
    }
   ],
   "source": [
    "clf = svm.SVC()\n",
    "clf.fit(X, y)"
   ]
  },
  {
   "cell_type": "code",
   "execution_count": 51,
   "metadata": {},
   "outputs": [],
   "source": [
    "mtcnn = MTCNN(\n",
    "    image_size=160, margin=0, min_face_size=20,\n",
    "    thresholds=[0.6, 0.7, 0.7], factor=0.709, post_process=True,\n",
    "    device=device\n",
    ")"
   ]
  },
  {
   "cell_type": "code",
   "execution_count": 52,
   "metadata": {},
   "outputs": [],
   "source": [
    "def collate_fn(x):\n",
    "    return x[0]\n",
    "\n",
    "dataset = datasets.ImageFolder('./data/test')\n",
    "dataset.idx_to_class = {i:c for c, i in dataset.class_to_idx.items()}\n",
    "loader = DataLoader(dataset, collate_fn=collate_fn, num_workers=workers)"
   ]
  },
  {
   "cell_type": "code",
   "execution_count": 53,
   "metadata": {},
   "outputs": [
    {
     "name": "stdout",
     "output_type": "stream",
     "text": [
      "Face detected with probability: 0.999673\n",
      "Face detected with probability: 0.999907\n",
      "Face detected with probability: 0.999785\n",
      "Face detected with probability: 0.993947\n",
      "Face detected with probability: 1.000000\n",
      "Face detected with probability: 0.999940\n",
      "Face detected with probability: 0.999914\n",
      "Face detected with probability: 0.999175\n",
      "Face detected with probability: 0.999949\n",
      "Face detected with probability: 0.999987\n",
      "Face detected with probability: 0.999748\n",
      "Face detected with probability: 0.999990\n",
      "Face detected with probability: 0.999611\n",
      "Face detected with probability: 0.999680\n",
      "Face detected with probability: 0.999252\n",
      "Face detected with probability: 0.999713\n",
      "Face detected with probability: 0.999566\n",
      "Face detected with probability: 0.999360\n",
      "Face detected with probability: 0.999735\n",
      "Face detected with probability: 0.999720\n",
      "Face detected with probability: 0.999988\n",
      "Face detected with probability: 0.999891\n",
      "Face detected with probability: 0.999953\n",
      "Face detected with probability: 0.999914\n"
     ]
    }
   ],
   "source": [
    "aligned = []\n",
    "names = []\n",
    "for x, y in loader:\n",
    "    x_aligned, prob = mtcnn(x, return_prob=True)\n",
    "    if x_aligned is not None:\n",
    "        print('Face detected with probability: {:8f}'.format(prob))\n",
    "        aligned.append(x_aligned)\n",
    "        names.append(dataset.idx_to_class[y])"
   ]
  },
  {
   "cell_type": "code",
   "execution_count": 54,
   "metadata": {},
   "outputs": [],
   "source": [
    "aligned = torch.stack(aligned).to(device)\n",
    "embeddings = resnet(aligned).detach().cpu()"
   ]
  },
  {
   "cell_type": "code",
   "execution_count": 57,
   "metadata": {},
   "outputs": [
    {
     "data": {
      "text/plain": [
       "[[5.078503608703613,\n",
       "  -2.264317035675049,\n",
       "  -4.872681617736816,\n",
       "  -1.73228919506073,\n",
       "  -1.395796775817871,\n",
       "  5.50147008895874],\n",
       " [8.396160125732422,\n",
       "  0.14067482948303223,\n",
       "  -4.982182025909424,\n",
       "  -4.455480098724365,\n",
       "  -0.7572050094604492,\n",
       "  2.6791553497314453],\n",
       " [4.576371192932129,\n",
       "  -3.0168094635009766,\n",
       "  -1.2595305442810059,\n",
       "  -4.206353664398193,\n",
       "  0.3566843271255493,\n",
       "  3.353727340698242],\n",
       " [9.80397891998291,\n",
       "  0.1862918734550476,\n",
       "  -4.759002685546875,\n",
       "  -4.237934589385986,\n",
       "  -0.9220809936523438,\n",
       "  0.6107087135314941],\n",
       " [-1.1356827020645142,\n",
       "  -2.675570487976074,\n",
       "  0.5298291444778442,\n",
       "  -1.235497236251831,\n",
       "  3.673877716064453,\n",
       "  -0.4325626790523529],\n",
       " [2.8974320888519287,\n",
       "  0.7188677191734314,\n",
       "  -2.433302402496338,\n",
       "  -1.74935781955719,\n",
       "  0.37100690603256226,\n",
       "  0.3533100485801697],\n",
       " [5.403720855712891,\n",
       "  2.1207809448242188,\n",
       "  -2.644862174987793,\n",
       "  -2.424196720123291,\n",
       "  -1.7654244899749756,\n",
       "  -0.7605353593826294],\n",
       " [2.2574615478515625,\n",
       "  0.8495261669158936,\n",
       "  -2.4450864791870117,\n",
       "  -2.4749093055725098,\n",
       "  3.1107053756713867,\n",
       "  -2.0963332653045654],\n",
       " [5.782963752746582,\n",
       "  0.4165908098220825,\n",
       "  -2.2791028022766113,\n",
       "  -3.5809946060180664,\n",
       "  -0.6102790832519531,\n",
       "  0.4246521294116974],\n",
       " [2.391752243041992,\n",
       "  -0.5832110643386841,\n",
       "  5.694400787353516,\n",
       "  -3.3170313835144043,\n",
       "  -2.645517349243164,\n",
       "  -1.687182068824768],\n",
       " [3.3626461029052734,\n",
       "  -1.4508683681488037,\n",
       "  -1.1119787693023682,\n",
       "  -1.0093541145324707,\n",
       "  -0.8434313535690308,\n",
       "  0.3740476071834564],\n",
       " [0.39445367455482483,\n",
       "  -0.5125517249107361,\n",
       "  6.897475719451904,\n",
       "  -1.9430301189422607,\n",
       "  -2.4082303047180176,\n",
       "  -2.8160414695739746],\n",
       " [-2.506009578704834,\n",
       "  -3.716090440750122,\n",
       "  -1.593895435333252,\n",
       "  5.245288848876953,\n",
       "  2.6044211387634277,\n",
       "  -1.5735726356506348],\n",
       " [-4.127919673919678,\n",
       "  -2.727177858352661,\n",
       "  1.2578015327453613,\n",
       "  3.30894136428833,\n",
       "  1.195389986038208,\n",
       "  0.5992605686187744],\n",
       " [-1.6610735654830933,\n",
       "  -2.9623208045959473,\n",
       "  1.3700830936431885,\n",
       "  4.886814117431641,\n",
       "  -1.7322142124176025,\n",
       "  -0.6269694566726685],\n",
       " [-5.2350616455078125,\n",
       "  -3.030559539794922,\n",
       "  0.6396169662475586,\n",
       "  7.355957984924316,\n",
       "  -0.4500971734523773,\n",
       "  -0.6331167817115784],\n",
       " [7.348910331726074,\n",
       "  -0.1787855327129364,\n",
       "  -3.2311720848083496,\n",
       "  -3.253384828567505,\n",
       "  -0.2113727331161499,\n",
       "  -0.47947579622268677],\n",
       " [0.37063392996788025,\n",
       "  -3.388465404510498,\n",
       "  -0.796905517578125,\n",
       "  -0.35546594858169556,\n",
       "  2.8838589191436768,\n",
       "  -0.019195906817913055],\n",
       " [5.904989242553711,\n",
       "  -1.512441873550415,\n",
       "  -2.7723701000213623,\n",
       "  -2.2883529663085938,\n",
       "  -0.721406102180481,\n",
       "  1.0402557849884033],\n",
       " [2.2236881256103516,\n",
       "  -2.7083582878112793,\n",
       "  -2.8645944595336914,\n",
       "  -1.4008193016052246,\n",
       "  4.038272857666016,\n",
       "  -0.6337572336196899],\n",
       " [4.813240051269531,\n",
       "  -2.839550733566284,\n",
       "  -3.669166326522827,\n",
       "  -2.238489866256714,\n",
       "  -0.20769788324832916,\n",
       "  3.9342124462127686],\n",
       " [0.1779889315366745,\n",
       "  -2.199258804321289,\n",
       "  -3.2510833740234375,\n",
       "  1.3683114051818848,\n",
       "  5.294774055480957,\n",
       "  -2.2792301177978516],\n",
       " [4.253661155700684,\n",
       "  -1.37211012840271,\n",
       "  -3.4048027992248535,\n",
       "  -1.0738149881362915,\n",
       "  0.4957823157310486,\n",
       "  0.5403817892074585],\n",
       " [3.5484986305236816,\n",
       "  -2.4863080978393555,\n",
       "  -3.5636796951293945,\n",
       "  -2.4480690956115723,\n",
       "  0.7061376571655273,\n",
       "  3.7980353832244873]]"
      ]
     },
     "execution_count": 57,
     "metadata": {},
     "output_type": "execute_result"
    }
   ],
   "source": [
    "embeddings.tolist()"
   ]
  },
  {
   "cell_type": "code",
   "execution_count": 60,
   "metadata": {},
   "outputs": [
    {
     "name": "stdout",
     "output_type": "stream",
     "text": [
      "[1 0 1 0 1 1 1 1 1 2 2 2 3 4 3 3 0 1 1 4 4 1 1 1]\n",
      "['IU', 'IU', 'IU', 'IU', 'eunwoo', 'eunwoo', 'eunwoo', 'eunwoo', 'gaeri', 'gaeri', 'gaeri', 'gaeri', 'jonggook', 'jonggook', 'jonggook', 'jonggook', 'soohyang', 'soohyang', 'soohyang', 'soohyang', 'younha', 'younha', 'younha', 'younha']\n",
      "{0: 'IU', 1: 'eunwoo', 2: 'gaeri', 3: 'jonggook', 4: 'soohyang', 5: 'younha'}\n"
     ]
    }
   ],
   "source": [
    "print(clf.predict(embeddings.tolist()))\n",
    "print(names)\n",
    "print(dataset.idx_to_class)"
   ]
  },
  {
   "cell_type": "code",
   "execution_count": null,
   "metadata": {},
   "outputs": [],
   "source": []
  }
 ],
 "metadata": {
  "kernelspec": {
   "display_name": "Python 3",
   "language": "python",
   "name": "python3"
  },
  "language_info": {
   "codemirror_mode": {
    "name": "ipython",
    "version": 3
   },
   "file_extension": ".py",
   "mimetype": "text/x-python",
   "name": "python",
   "nbconvert_exporter": "python",
   "pygments_lexer": "ipython3",
   "version": "3.6.8"
  }
 },
 "nbformat": 4,
 "nbformat_minor": 2
}
